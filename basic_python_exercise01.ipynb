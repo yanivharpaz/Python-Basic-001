{
 "cells": [
  {
   "cell_type": "markdown",
   "source": [
    "---\r\n",
    "\r\n",
    "###                  תרגול בסיסי \r\n",
    "\r\n",
    "---\r\n",
    "\r\n"
   ],
   "metadata": {}
  },
  {
   "cell_type": "markdown",
   "source": [
    "להגדיר שני משתנים (אורך ורוחב של מלבן) ולהציב בהם מספר שלם\n",
    "\n",
    "להדפיס את שטח המלבן\n",
    "\n",
    "להדפיס את היקף המלבן"
   ],
   "metadata": {}
  },
  {
   "cell_type": "code",
   "execution_count": 4,
   "source": [
    "# TO DO\r\n",
    "# לרשום את הפתרון כאן\r\n",
    "\r\n"
   ],
   "outputs": [],
   "metadata": {}
  },
  {
   "cell_type": "markdown",
   "source": [
    "להגדיר משתנה עם רדיוס של עיגול\n",
    "\n",
    "להדפיס את היקף העיגול\n",
    "\n",
    "להדפיס את שטח העיגול\n"
   ],
   "metadata": {}
  },
  {
   "cell_type": "code",
   "execution_count": 3,
   "source": [
    "# TO DO\r\n",
    "# לרשום את הפתרון כאן\r\n",
    "\r\n"
   ],
   "outputs": [],
   "metadata": {}
  },
  {
   "cell_type": "markdown",
   "source": [
    "להגדיר שני משתנים ולהציב מספרים שלמים בהם\n",
    "\n",
    "להחליף ביניהם עם משתנה זמני\n",
    "\n",
    "להחליף ביניהם ללא משתנה זמני\n"
   ],
   "metadata": {}
  },
  {
   "cell_type": "code",
   "execution_count": 5,
   "source": [
    "# TO DO\r\n",
    "# לרשום את הפתרון כאן\r\n",
    "\r\n"
   ],
   "outputs": [],
   "metadata": {}
  },
  {
   "cell_type": "markdown",
   "source": [
    "להגדיר משתנה ולהציב בו מספר שלם תלת ספרתי או יותר גדול\n",
    "\n",
    "להדפיס את הספרה הימנית\n",
    "\n",
    "להדפיס את הספרה השמאלית"
   ],
   "metadata": {}
  },
  {
   "cell_type": "code",
   "execution_count": null,
   "source": [
    "# TO DO\n",
    "# לרשום את הפתרון כאן\n",
    "\n"
   ],
   "outputs": [],
   "metadata": {}
  },
  {
   "cell_type": "markdown",
   "source": [
    "להגדיר שני משתנים להציב בהם מספרים שלמים\n",
    "\n",
    "משתנה ראשון – מספר אוטובוסים\n",
    "\n",
    "משתנה שני – מספר נוסעים\n",
    "\n",
    "להדפיס כמה אוטובוסים צריך"
   ],
   "metadata": {}
  },
  {
   "cell_type": "code",
   "execution_count": null,
   "source": [
    "# TO DO\n",
    "# לרשום את הפתרון כאן\n",
    "\n"
   ],
   "outputs": [],
   "metadata": {}
  },
  {
   "cell_type": "markdown",
   "source": [
    "להגדיר משתנה ולהציב בו מספר שלם\n",
    "\n",
    "להדפיס האם הוא זוגי\n"
   ],
   "metadata": {}
  },
  {
   "cell_type": "code",
   "execution_count": null,
   "source": [
    "\n",
    "# TO DO\n",
    "# לרשום את הפתרון כאן\n",
    "\n"
   ],
   "outputs": [],
   "metadata": {}
  },
  {
   "cell_type": "markdown",
   "source": [
    "להגדיר שני משתנים עם מספרים שלמים\n",
    "\n",
    "להדפיס את המספר הגדול מבין השניים\n"
   ],
   "metadata": {}
  },
  {
   "cell_type": "code",
   "execution_count": null,
   "source": [
    "# TO DO\n",
    "# לרשום את הפתרון כאן\n",
    "\n"
   ],
   "outputs": [],
   "metadata": {}
  },
  {
   "cell_type": "markdown",
   "source": [
    "להגדיר שלושה משתנים עם מספרים שלמים\n",
    "\n",
    "להדפיס האם הם מהווים סדרה חשבונית\n"
   ],
   "metadata": {}
  },
  {
   "cell_type": "code",
   "execution_count": null,
   "source": [
    "# TO DO\n",
    "# לרשום את הפתרון כאן\n",
    "\n"
   ],
   "outputs": [],
   "metadata": {}
  },
  {
   "cell_type": "markdown",
   "source": [
    "להגדיר משתנה שהוא החודש בשנה\n",
    "\n",
    "להדפיס כמה ימים יש בחודש הזה\n"
   ],
   "metadata": {}
  },
  {
   "cell_type": "code",
   "execution_count": null,
   "source": [
    "# TO DO\n",
    "# לרשום את הפתרון כאן\n",
    "\n"
   ],
   "outputs": [],
   "metadata": {}
  },
  {
   "cell_type": "markdown",
   "source": [
    "להגדיר משתנה ולהציב בו מספר שלם\n",
    "\n",
    "האם הוא מכיל את הסיפרה 6\n"
   ],
   "metadata": {}
  },
  {
   "cell_type": "code",
   "execution_count": null,
   "source": [
    "# TO DO\n",
    "# לרשום את הפתרון כאן\n",
    "\n"
   ],
   "outputs": [],
   "metadata": {}
  },
  {
   "cell_type": "markdown",
   "source": [
    "להגדיר שני משתנים עם מספרים שלמים\n",
    "\n",
    "האם המספר הקטן הוא מחלק של המספר הגדול"
   ],
   "metadata": {}
  },
  {
   "cell_type": "code",
   "execution_count": null,
   "source": [
    "# TO DO\n",
    "# לרשום את הפתרון כאן\n",
    "\n"
   ],
   "outputs": [],
   "metadata": {}
  },
  {
   "cell_type": "markdown",
   "source": [
    "להגדיר משתנה מספר שלם תלת ספרתי\n",
    "\n",
    "האם כל הספרות בו זוגיות\n"
   ],
   "metadata": {}
  },
  {
   "cell_type": "code",
   "execution_count": null,
   "source": [
    "# TO DO\n",
    "# לרשום את הפתרון כאן\n",
    "\n"
   ],
   "outputs": [],
   "metadata": {}
  },
  {
   "cell_type": "markdown",
   "source": [
    "להגדיר רשימה של 10 מספרים שלמים\n",
    "\n",
    "להדפיס עבור כל המספרים את הסיפרה הימנית\n"
   ],
   "metadata": {}
  },
  {
   "cell_type": "code",
   "execution_count": null,
   "source": [
    "# TO DO\n",
    "# לרשום את הפתרון כאן\n",
    "\n"
   ],
   "outputs": [],
   "metadata": {}
  },
  {
   "cell_type": "markdown",
   "source": [
    "להגדיר רשימה של 20 מספרים\n",
    "\n",
    "להדפיס את כל המספרים הזוגיים\n"
   ],
   "metadata": {}
  },
  {
   "cell_type": "code",
   "execution_count": null,
   "source": [
    "# TO DO\n",
    "# לרשום את הפתרון כאן\n",
    "\n"
   ],
   "outputs": [],
   "metadata": {}
  },
  {
   "cell_type": "markdown",
   "source": [
    "להגדיר רשימה של 15 מספרים תלת ספרתיים\n",
    "\n",
    "להדפיס עבור כל מספר את סכום הספרות\n"
   ],
   "metadata": {}
  },
  {
   "cell_type": "code",
   "execution_count": null,
   "source": [
    "# TO DO\n",
    "# לרשום את הפתרון כאן\n",
    "\n"
   ],
   "outputs": [],
   "metadata": {}
  },
  {
   "cell_type": "markdown",
   "source": [
    "להגדיר רשימה של 20 מספרים\n",
    "\n",
    "להדפיס את כל המספרים השליליים\n"
   ],
   "metadata": {}
  },
  {
   "cell_type": "code",
   "execution_count": null,
   "source": [
    "# TO DO\n",
    "# לרשום את הפתרון כאן\n",
    "\n"
   ],
   "outputs": [],
   "metadata": {}
  },
  {
   "cell_type": "markdown",
   "source": [
    "להגדיר רשימה של 20 מספרים שלמים\n",
    "\n",
    "לחשב את המספר המקסימלי\n",
    "\n",
    "לחשב את המספר המינימלי\n",
    "\n",
    "לחשב את הסכום שלהם\n",
    "\n",
    "לחשב את הממוצע החשבוני\n",
    "\n",
    "*בונוס – לחשב את סטיית התקן\n"
   ],
   "metadata": {}
  },
  {
   "cell_type": "code",
   "execution_count": null,
   "source": [
    "# TO DO\n",
    "# לרשום את הפתרון כאן\n",
    "\n"
   ],
   "outputs": [],
   "metadata": {}
  },
  {
   "cell_type": "markdown",
   "source": [
    "להגדיר שני משתנים עם מספרים שלמים\n",
    "\n",
    "להדפיס את הכפל שלהם מבלי להשתמש באופרטור של הכפל\n"
   ],
   "metadata": {}
  },
  {
   "cell_type": "code",
   "execution_count": null,
   "source": [],
   "outputs": [],
   "metadata": {}
  },
  {
   "cell_type": "markdown",
   "source": [
    "ליצור רשימה של כל המספרים 1-100\n",
    "\n",
    "להדפיס את כל הזוגיים\n",
    "\n",
    "להדפיס את כל הזוגיים בסדר הפוך\n"
   ],
   "metadata": {}
  },
  {
   "cell_type": "code",
   "execution_count": null,
   "source": [],
   "outputs": [],
   "metadata": {}
  },
  {
   "cell_type": "markdown",
   "source": [
    "להדפיס את כל המספרים התלת ספרתיים שמתחלקים ב-9"
   ],
   "metadata": {}
  },
  {
   "cell_type": "code",
   "execution_count": null,
   "source": [],
   "outputs": [],
   "metadata": {}
  },
  {
   "cell_type": "markdown",
   "source": [
    "להגדיר משתנה מספר שלם ולהדפיס את העצרת שלו"
   ],
   "metadata": {}
  },
  {
   "cell_type": "code",
   "execution_count": null,
   "source": [],
   "outputs": [],
   "metadata": {}
  },
  {
   "cell_type": "markdown",
   "source": [
    "להגדיר משתנה מספר שלם ולהדפיס האם הוא מספר ראשוני"
   ],
   "metadata": {}
  },
  {
   "cell_type": "code",
   "execution_count": null,
   "source": [],
   "outputs": [],
   "metadata": {}
  }
 ],
 "metadata": {
  "kernelspec": {
   "name": "python3",
   "display_name": "Python 3.8.5 64-bit ('base': conda)"
  },
  "language_info": {
   "codemirror_mode": {
    "name": "ipython",
    "version": 3
   },
   "file_extension": ".py",
   "mimetype": "text/x-python",
   "name": "python",
   "nbconvert_exporter": "python",
   "pygments_lexer": "ipython3",
   "version": "3.8.5"
  },
  "interpreter": {
   "hash": "74beeeed09847915bd71c5666dc5b215f11dcbf2fcb97e32f8189c9a9cb69f6e"
  }
 },
 "nbformat": 4,
 "nbformat_minor": 4
}